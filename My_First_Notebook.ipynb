{
 "cells": [
  {
   "cell_type": "code",
   "execution_count": 1,
   "id": "a58addda-df9d-4b94-8b50-1e7d428d88a5",
   "metadata": {
    "tags": []
   },
   "outputs": [],
   "source": [
    "# Cells in a Jupyter Notebook are containers for text or code. Code cells allow execution of code, while markdown cells format text. This approach aids in organizing and documenting code."
   ]
  },
  {
   "cell_type": "code",
   "execution_count": 3,
   "id": "ff1ec11e-daa7-4a37-a2d7-a241e237e893",
   "metadata": {
    "tags": []
   },
   "outputs": [
    {
     "name": "stdout",
     "output_type": "stream",
     "text": [
      "Hello World\n"
     ]
    }
   ],
   "source": [
    "print (\"Hello World\")"
   ]
  },
  {
   "cell_type": "code",
   "execution_count": null,
   "id": "de6e2fef-a056-46a4-8ae2-0701d51b89c5",
   "metadata": {},
   "outputs": [],
   "source": [
    "# This is my second markdown cell in Jupyter"
   ]
  }
 ],
 "metadata": {
  "kernelspec": {
   "display_name": "Python 3 (ipykernel)",
   "language": "python",
   "name": "python3"
  },
  "language_info": {
   "codemirror_mode": {
    "name": "ipython",
    "version": 3
   },
   "file_extension": ".py",
   "mimetype": "text/x-python",
   "name": "python",
   "nbconvert_exporter": "python",
   "pygments_lexer": "ipython3",
   "version": "3.11.5"
  }
 },
 "nbformat": 4,
 "nbformat_minor": 5
}
